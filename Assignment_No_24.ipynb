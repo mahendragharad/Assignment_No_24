{
  "nbformat": 4,
  "nbformat_minor": 0,
  "metadata": {
    "colab": {
      "provenance": []
    },
    "kernelspec": {
      "name": "python3",
      "display_name": "Python 3"
    },
    "language_info": {
      "name": "python"
    }
  },
  "cells": [
    {
      "cell_type": "markdown",
      "source": [
        "**Question No.1**\n",
        "\n",
        "**Create a function that takes an integer and returns a list from 1 to the given number, where:**\n",
        "\n",
        "**1. If the number can be divided evenly by 4, amplify it by 10 (i.e. return 10 times the**\n",
        "**number).**\n",
        "\n",
        "**2. If the number cannot be divided evenly by 4, simply return the number.**\n",
        "\n",
        "Examples\n",
        "\n",
        "amplify(4) ➞ [1, 2, 3, 40]\n",
        "\n",
        "amplify(3) ➞ [1, 2, 3]\n",
        "\n",
        "amplify(25) ➞ [1, 2, 3, 40, 5, 6, 7, 80, 9, 10, 11, 120, 13, 14, 15, 160,\n",
        "17, 18, 19, 200, 21, 22, 23, 240, 25]"
      ],
      "metadata": {
        "id": "B0_6WqFH9j2P"
      }
    },
    {
      "cell_type": "code",
      "source": [
        "def amplify(n) :\n",
        "    l = []\n",
        "    if n >= 1 :\n",
        "        for i in range(1,n+1) :\n",
        "            l.append(i)\n",
        "            if i % 4 == 0 :\n",
        "                l[l.index(i)] = i*10\n",
        "        return l \n",
        "    else :\n",
        "        return 0 "
      ],
      "metadata": {
        "id": "OjFnUhgk9Z4A"
      },
      "execution_count": 13,
      "outputs": []
    },
    {
      "cell_type": "code",
      "source": [
        "amplify(25)"
      ],
      "metadata": {
        "colab": {
          "base_uri": "https://localhost:8080/"
        },
        "id": "2LijoLmF9ewl",
        "outputId": "aad26a20-e6cb-4a7a-8125-a0371759509a"
      },
      "execution_count": 14,
      "outputs": [
        {
          "output_type": "execute_result",
          "data": {
            "text/plain": [
              "[1,\n",
              " 2,\n",
              " 3,\n",
              " 40,\n",
              " 5,\n",
              " 6,\n",
              " 7,\n",
              " 80,\n",
              " 9,\n",
              " 10,\n",
              " 11,\n",
              " 120,\n",
              " 13,\n",
              " 14,\n",
              " 15,\n",
              " 160,\n",
              " 17,\n",
              " 18,\n",
              " 19,\n",
              " 200,\n",
              " 21,\n",
              " 22,\n",
              " 23,\n",
              " 240,\n",
              " 25]"
            ]
          },
          "metadata": {},
          "execution_count": 14
        }
      ]
    },
    {
      "cell_type": "code",
      "source": [
        "amplify(3)"
      ],
      "metadata": {
        "colab": {
          "base_uri": "https://localhost:8080/"
        },
        "id": "rqPktajr98_e",
        "outputId": "e1a9f06d-5537-4e69-ce84-dcbd9e22199d"
      },
      "execution_count": 8,
      "outputs": [
        {
          "output_type": "execute_result",
          "data": {
            "text/plain": [
              "[1, 2, 3]"
            ]
          },
          "metadata": {},
          "execution_count": 8
        }
      ]
    },
    {
      "cell_type": "code",
      "source": [
        "amplify(0)"
      ],
      "metadata": {
        "colab": {
          "base_uri": "https://localhost:8080/"
        },
        "id": "uXWxC_6UA8ZB",
        "outputId": "0fdb2b2c-eb01-4b13-c4ce-c88eec535765"
      },
      "execution_count": 15,
      "outputs": [
        {
          "output_type": "execute_result",
          "data": {
            "text/plain": [
              "0"
            ]
          },
          "metadata": {},
          "execution_count": 15
        }
      ]
    },
    {
      "cell_type": "markdown",
      "source": [
        "\n",
        "\n",
        "---\n",
        "\n"
      ],
      "metadata": {
        "id": "NBM1jw_b9YUo"
      }
    },
    {
      "cell_type": "markdown",
      "source": [
        "**Question No.2**\n",
        "\n",
        "**Create a function that takes a list of numbers and return the number that&#39;s unique.**\n",
        "\n",
        "**Examples**\n",
        "\n",
        "* unique([3, 3, 3, 7, 3, 3]) ➞ 7\n",
        "\n",
        "* unique([0, 0, 0.77, 0, 0]) ➞ 0.77\n",
        "\n",
        "* unique([0, 1, 1, 1, 1, 1, 1, 1]) ➞ 0\n",
        "\n",
        "\n",
        "\n",
        "**Notes\n",
        "Test cases will always have exactly one unique number while all others are the same.**"
      ],
      "metadata": {
        "id": "c2jygU6_Dfiz"
      }
    },
    {
      "cell_type": "code",
      "execution_count": 1,
      "metadata": {
        "id": "b_BCMB7LDWsk"
      },
      "outputs": [],
      "source": [
        "def unique(n) :\n",
        "    for i in n :\n",
        "        if n.count(i) == 1 :\n",
        "            return i"
      ]
    },
    {
      "cell_type": "code",
      "source": [
        "unique([3, 3, 3, 7, 3, 3])"
      ],
      "metadata": {
        "colab": {
          "base_uri": "https://localhost:8080/"
        },
        "id": "Imm6Z5FeD8hx",
        "outputId": "6c9eb03c-226b-4bc9-bbed-5d21ce5e8118"
      },
      "execution_count": 2,
      "outputs": [
        {
          "output_type": "execute_result",
          "data": {
            "text/plain": [
              "7"
            ]
          },
          "metadata": {},
          "execution_count": 2
        }
      ]
    },
    {
      "cell_type": "markdown",
      "source": [
        "\n",
        "\n",
        "---\n",
        "\n"
      ],
      "metadata": {
        "id": "7WC5u_pfMAH7"
      }
    },
    {
      "cell_type": "markdown",
      "source": [
        "**Question No.3**\n",
        "\n",
        "**Your task is to create a Circle constructor that creates a circle with a radius provided by an\n",
        "argument. The circles constructed must have two getters getArea() (PIr^2) and\n",
        "getPerimeter() (2PI*r) which give both respective areas and perimeter (circumference).**\n",
        "\n",
        "\n",
        "For help with this class, I have provided you with a Rectangle constructor which you can use\n",
        "as a base example.\n",
        "\n",
        "Examples\n",
        "\n",
        "* circy = Circle(11)\n",
        "\n",
        "* circy.getArea()\n",
        "\n",
        "* Should return 380.132711084365\n",
        "\n",
        "\n",
        "\n",
        "\n",
        "---\n",
        "\n",
        "\n",
        "* circy = Circle(4.44)\n",
        "\n",
        "* circy.getPerimeter()\n",
        "\n",
        "* Should return 27.897342763877365\n",
        "\n",
        "\n",
        "---\n",
        "\n",
        "\n",
        "**Notes\n",
        "Round results up to the nearest integer.**"
      ],
      "metadata": {
        "id": "lm6FFH4aLSxX"
      }
    },
    {
      "cell_type": "code",
      "source": [
        "import math\n",
        "\n",
        "class Circle:\n",
        "    def __init__(self, radius):\n",
        "        self.radius = radius\n",
        "\n",
        "    def getArea(self):\n",
        "        return math.pi * self.radius**2\n",
        "\n",
        "    def getPerimeter(self):\n",
        "        return 2 * math.pi * self.radius\n"
      ],
      "metadata": {
        "id": "2T1PBjbVD8fB"
      },
      "execution_count": 3,
      "outputs": []
    },
    {
      "cell_type": "code",
      "source": [
        "obj1 = Circle(11)\n",
        "obj1.getArea()"
      ],
      "metadata": {
        "id": "yemVade7D8cz",
        "colab": {
          "base_uri": "https://localhost:8080/"
        },
        "outputId": "4a106496-b2a7-498f-9e72-3c326eb8c76f"
      },
      "execution_count": 12,
      "outputs": [
        {
          "output_type": "execute_result",
          "data": {
            "text/plain": [
              "380.132711084365"
            ]
          },
          "metadata": {},
          "execution_count": 12
        }
      ]
    },
    {
      "cell_type": "code",
      "source": [
        "obj2 = Circle(4.44)\n",
        "obj2.getPerimeter()"
      ],
      "metadata": {
        "colab": {
          "base_uri": "https://localhost:8080/"
        },
        "id": "uJGjtds_-HL-",
        "outputId": "0dd9b2c7-8004-41f7-9c18-34ccf6b8e7a7"
      },
      "execution_count": 11,
      "outputs": [
        {
          "output_type": "execute_result",
          "data": {
            "text/plain": [
              "27.897342763877365"
            ]
          },
          "metadata": {},
          "execution_count": 11
        }
      ]
    },
    {
      "cell_type": "markdown",
      "source": [
        "\n",
        "\n",
        "---\n",
        "\n"
      ],
      "metadata": {
        "id": "0msv4RI6-lBJ"
      }
    },
    {
      "cell_type": "markdown",
      "source": [
        "**Question No.4**\n",
        "\n",
        "**Create a function that takes a list of strings and return a list, sorted from shortest to longest.**\n",
        "\n",
        "**Examples**\n",
        "\n",
        "* sort_by_length([&quot;Google&quot;, &quot;Apple&quot;, &quot;Microsoft&quot;])\n",
        "\n",
        "➞ [&quot;Apple&quot;, &quot;Google&quot;, &quot;Microsoft&quot;]\n",
        "\n",
        "* sort_by_length([&quot;Leonardo&quot;, &quot;Michelangelo&quot;, &quot;Raphael&quot;, &quot;Donatello&quot;])\n",
        "\n",
        "➞ [&quot;Raphael&quot;, &quot;Leonardo&quot;, &quot;Donatello&quot;, &quot;Michelangelo&quot;]\n",
        "\n",
        "* sort_by_length([&quot;Turing&quot;, &quot;Einstein&quot;, &quot;Jung&quot;])\n",
        "\n",
        "➞ [&quot;Jung&quot;, &quot;Turing&quot;, &quot;Einstein&quot;]\n",
        "\n",
        "**Notes\n",
        "All test cases contain lists with strings of different lengths, so you won&#39;t have to deal with\n",
        "multiple strings of the same length.** \n"
      ],
      "metadata": {
        "id": "7jzlEHgeBJwQ"
      }
    },
    {
      "cell_type": "code",
      "source": [
        "def sort_by_len(lst):\n",
        "    lst2 = sorted(lst, key=len)\n",
        "    return lst2"
      ],
      "metadata": {
        "id": "splxIkQnNURt"
      },
      "execution_count": 16,
      "outputs": []
    },
    {
      "cell_type": "code",
      "source": [
        "sort_by_len( ([\"Google\", \"Apple\", \"Microsoft\"]))"
      ],
      "metadata": {
        "colab": {
          "base_uri": "https://localhost:8080/"
        },
        "id": "XNV6j4UzNbRn",
        "outputId": "ce78bdf4-1f70-4a07-9ec2-e16c2b711b76"
      },
      "execution_count": 18,
      "outputs": [
        {
          "output_type": "execute_result",
          "data": {
            "text/plain": [
              "['Apple', 'Google', 'Microsoft']"
            ]
          },
          "metadata": {},
          "execution_count": 18
        }
      ]
    },
    {
      "cell_type": "markdown",
      "source": [],
      "metadata": {
        "id": "zdZLGEdSDeu1"
      }
    },
    {
      "cell_type": "markdown",
      "source": [
        "\n",
        "\n",
        "---\n",
        "\n"
      ],
      "metadata": {
        "id": "PDQRQeZ3Nnkj"
      }
    },
    {
      "cell_type": "markdown",
      "source": [
        "**Question No.5**\n",
        "\n",
        "**Create a function that validates whether three given integers form a Pythagorean triplet.**\n",
        "\n",
        "**The sum of the squares of the two smallest integers must equal the square of the largest number to\n",
        "be validated.**\n",
        "\n",
        "**Examples**\n",
        "\n",
        "* is_triplet(3, 4, 5) ➞ True\n",
        "\n",
        "3² + 4² = 25\n",
        "\n",
        "5² = 25\n",
        "\n",
        "* is_triplet(13, 5, 12) ➞ True\n",
        "\n",
        "5² + 12² = 169\n",
        "\n",
        "13² = 169\n",
        "\n",
        "\n",
        "* is_triplet(1, 2, 3) ➞ False\n",
        "\n",
        "1² + 2² = 5\n",
        "\n",
        "3² = 9\n",
        "\n",
        "**Notes\n",
        "Numbers may not be given in a sorted order.**"
      ],
      "metadata": {
        "id": "GBCOe5Y1Np6M"
      }
    },
    {
      "cell_type": "code",
      "source": [
        "def is_triplet(*args) :\n",
        "    summ = 0\n",
        "    l1 = list(args)\n",
        "    l1.sort()\n",
        "    last_ele = l1[-1]**2\n",
        "    summ = summ + l1[0]**2 + l1[1]**2\n",
        "    if summ == last_ele :\n",
        "        return True \n",
        "    else :\n",
        "        return False "
      ],
      "metadata": {
        "id": "2rjthDoaSw3B"
      },
      "execution_count": null,
      "outputs": []
    },
    {
      "cell_type": "code",
      "source": [
        "is_triplet(1,2,3)"
      ],
      "metadata": {
        "colab": {
          "base_uri": "https://localhost:8080/"
        },
        "id": "4zngfsp3S2l5",
        "outputId": "b37b1c5e-cb5f-44fd-dae3-b9b5292bc6b9"
      },
      "execution_count": 20,
      "outputs": [
        {
          "output_type": "execute_result",
          "data": {
            "text/plain": [
              "False"
            ]
          },
          "metadata": {},
          "execution_count": 20
        }
      ]
    },
    {
      "cell_type": "code",
      "source": [
        "is_triplet(3,4,5)"
      ],
      "metadata": {
        "colab": {
          "base_uri": "https://localhost:8080/"
        },
        "id": "nIGf1BHRS4qT",
        "outputId": "daec0833-62fc-445e-bec4-ce61064fd7f9"
      },
      "execution_count": 21,
      "outputs": [
        {
          "output_type": "execute_result",
          "data": {
            "text/plain": [
              "True"
            ]
          },
          "metadata": {},
          "execution_count": 21
        }
      ]
    },
    {
      "cell_type": "markdown",
      "source": [
        "\n",
        "\n",
        "---\n",
        "\n"
      ],
      "metadata": {
        "id": "ijXN-FlhS-Dn"
      }
    }
  ]
}